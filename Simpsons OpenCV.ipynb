{
 "cells": [
  {
   "cell_type": "code",
   "execution_count": 56,
   "metadata": {
    "execution": {
     "iopub.execute_input": "2023-01-17T17:50:25.720827Z",
     "iopub.status.busy": "2023-01-17T17:50:25.720472Z",
     "iopub.status.idle": "2023-01-17T17:50:36.001195Z",
     "shell.execute_reply": "2023-01-17T17:50:35.999998Z",
     "shell.execute_reply.started": "2023-01-17T17:50:25.720794Z"
    }
   },
   "outputs": [
    {
     "name": "stdout",
     "output_type": "stream",
     "text": [
      "Requirement already satisfied: caer in /opt/conda/lib/python3.7/site-packages (2.0.8)\n",
      "Requirement already satisfied: canaro in /opt/conda/lib/python3.7/site-packages (1.1.0)\n",
      "Requirement already satisfied: opencv-contrib-python in /opt/conda/lib/python3.7/site-packages (from caer) (4.5.4.60)\n",
      "Requirement already satisfied: typing-extensions in /opt/conda/lib/python3.7/site-packages (from caer) (3.10.0.2)\n",
      "Requirement already satisfied: numpy in /opt/conda/lib/python3.7/site-packages (from caer) (1.19.5)\n",
      "Requirement already satisfied: mypy in /opt/conda/lib/python3.7/site-packages (from caer) (0.991)\n",
      "Requirement already satisfied: tensorflow in /opt/conda/lib/python3.7/site-packages (from canaro) (2.6.4)\n",
      "Requirement already satisfied: tomli>=1.1.0 in /opt/conda/lib/python3.7/site-packages (from mypy->caer) (2.0.1)\n",
      "Requirement already satisfied: mypy-extensions>=0.4.3 in /opt/conda/lib/python3.7/site-packages (from mypy->caer) (0.4.3)\n",
      "Requirement already satisfied: typed-ast<2,>=1.4.0 in /opt/conda/lib/python3.7/site-packages (from mypy->caer) (1.5.4)\n",
      "Requirement already satisfied: opt-einsum~=3.3.0 in /opt/conda/lib/python3.7/site-packages (from tensorflow->canaro) (3.3.0)\n",
      "Requirement already satisfied: grpcio<2.0,>=1.37.0 in /opt/conda/lib/python3.7/site-packages (from tensorflow->canaro) (1.51.1)\n",
      "Requirement already satisfied: keras-preprocessing~=1.1.2 in /opt/conda/lib/python3.7/site-packages (from tensorflow->canaro) (1.1.2)\n",
      "Requirement already satisfied: tensorflow-estimator<2.7,>=2.6.0 in /opt/conda/lib/python3.7/site-packages (from tensorflow->canaro) (2.6.0)\n",
      "Requirement already satisfied: wrapt~=1.12.1 in /opt/conda/lib/python3.7/site-packages (from tensorflow->canaro) (1.12.1)\n",
      "Requirement already satisfied: gast==0.4.0 in /opt/conda/lib/python3.7/site-packages (from tensorflow->canaro) (0.4.0)\n",
      "Requirement already satisfied: keras<2.7,>=2.6.0 in /opt/conda/lib/python3.7/site-packages (from tensorflow->canaro) (2.6.0)\n",
      "Requirement already satisfied: tensorboard<2.7,>=2.6.0 in /opt/conda/lib/python3.7/site-packages (from tensorflow->canaro) (2.6.0)\n",
      "Requirement already satisfied: astunparse~=1.6.3 in /opt/conda/lib/python3.7/site-packages (from tensorflow->canaro) (1.6.3)\n",
      "Requirement already satisfied: wheel~=0.35 in /opt/conda/lib/python3.7/site-packages (from tensorflow->canaro) (0.37.1)\n",
      "Requirement already satisfied: google-pasta~=0.2 in /opt/conda/lib/python3.7/site-packages (from tensorflow->canaro) (0.2.0)\n",
      "Requirement already satisfied: flatbuffers~=1.12.0 in /opt/conda/lib/python3.7/site-packages (from tensorflow->canaro) (1.12)\n",
      "Requirement already satisfied: protobuf>=3.9.2 in /opt/conda/lib/python3.7/site-packages (from tensorflow->canaro) (3.20.3)\n",
      "Requirement already satisfied: h5py~=3.1.0 in /opt/conda/lib/python3.7/site-packages (from tensorflow->canaro) (3.1.0)\n",
      "Requirement already satisfied: six~=1.15.0 in /opt/conda/lib/python3.7/site-packages (from tensorflow->canaro) (1.15.0)\n",
      "Requirement already satisfied: termcolor~=1.1.0 in /opt/conda/lib/python3.7/site-packages (from tensorflow->canaro) (1.1.0)\n",
      "Requirement already satisfied: absl-py~=0.10 in /opt/conda/lib/python3.7/site-packages (from tensorflow->canaro) (0.15.0)\n",
      "Requirement already satisfied: clang~=5.0 in /opt/conda/lib/python3.7/site-packages (from tensorflow->canaro) (5.0)\n",
      "Requirement already satisfied: cached-property in /opt/conda/lib/python3.7/site-packages (from h5py~=3.1.0->tensorflow->canaro) (1.5.2)\n",
      "Requirement already satisfied: google-auth<2,>=1.6.3 in /opt/conda/lib/python3.7/site-packages (from tensorboard<2.7,>=2.6.0->tensorflow->canaro) (1.35.0)\n",
      "Requirement already satisfied: requests<3,>=2.21.0 in /opt/conda/lib/python3.7/site-packages (from tensorboard<2.7,>=2.6.0->tensorflow->canaro) (2.28.1)\n",
      "Requirement already satisfied: tensorboard-plugin-wit>=1.6.0 in /opt/conda/lib/python3.7/site-packages (from tensorboard<2.7,>=2.6.0->tensorflow->canaro) (1.8.1)\n",
      "Requirement already satisfied: tensorboard-data-server<0.7.0,>=0.6.0 in /opt/conda/lib/python3.7/site-packages (from tensorboard<2.7,>=2.6.0->tensorflow->canaro) (0.6.1)\n",
      "Requirement already satisfied: google-auth-oauthlib<0.5,>=0.4.1 in /opt/conda/lib/python3.7/site-packages (from tensorboard<2.7,>=2.6.0->tensorflow->canaro) (0.4.6)\n",
      "Requirement already satisfied: setuptools>=41.0.0 in /opt/conda/lib/python3.7/site-packages (from tensorboard<2.7,>=2.6.0->tensorflow->canaro) (59.8.0)\n",
      "Requirement already satisfied: werkzeug>=0.11.15 in /opt/conda/lib/python3.7/site-packages (from tensorboard<2.7,>=2.6.0->tensorflow->canaro) (2.2.2)\n",
      "Requirement already satisfied: markdown>=2.6.8 in /opt/conda/lib/python3.7/site-packages (from tensorboard<2.7,>=2.6.0->tensorflow->canaro) (3.3.7)\n",
      "Requirement already satisfied: pyasn1-modules>=0.2.1 in /opt/conda/lib/python3.7/site-packages (from google-auth<2,>=1.6.3->tensorboard<2.7,>=2.6.0->tensorflow->canaro) (0.2.7)\n",
      "Requirement already satisfied: cachetools<5.0,>=2.0.0 in /opt/conda/lib/python3.7/site-packages (from google-auth<2,>=1.6.3->tensorboard<2.7,>=2.6.0->tensorflow->canaro) (4.2.4)\n",
      "Requirement already satisfied: rsa<5,>=3.1.4 in /opt/conda/lib/python3.7/site-packages (from google-auth<2,>=1.6.3->tensorboard<2.7,>=2.6.0->tensorflow->canaro) (4.8)\n",
      "Requirement already satisfied: requests-oauthlib>=0.7.0 in /opt/conda/lib/python3.7/site-packages (from google-auth-oauthlib<0.5,>=0.4.1->tensorboard<2.7,>=2.6.0->tensorflow->canaro) (1.3.1)\n",
      "Requirement already satisfied: importlib-metadata>=4.4 in /opt/conda/lib/python3.7/site-packages (from markdown>=2.6.8->tensorboard<2.7,>=2.6.0->tensorflow->canaro) (4.13.0)\n",
      "Requirement already satisfied: charset-normalizer<3,>=2 in /opt/conda/lib/python3.7/site-packages (from requests<3,>=2.21.0->tensorboard<2.7,>=2.6.0->tensorflow->canaro) (2.1.0)\n",
      "Requirement already satisfied: certifi>=2017.4.17 in /opt/conda/lib/python3.7/site-packages (from requests<3,>=2.21.0->tensorboard<2.7,>=2.6.0->tensorflow->canaro) (2022.12.7)\n",
      "Requirement already satisfied: idna<4,>=2.5 in /opt/conda/lib/python3.7/site-packages (from requests<3,>=2.21.0->tensorboard<2.7,>=2.6.0->tensorflow->canaro) (3.3)\n",
      "Requirement already satisfied: urllib3<1.27,>=1.21.1 in /opt/conda/lib/python3.7/site-packages (from requests<3,>=2.21.0->tensorboard<2.7,>=2.6.0->tensorflow->canaro) (1.26.13)\n",
      "Requirement already satisfied: MarkupSafe>=2.1.1 in /opt/conda/lib/python3.7/site-packages (from werkzeug>=0.11.15->tensorboard<2.7,>=2.6.0->tensorflow->canaro) (2.1.1)\n",
      "Requirement already satisfied: zipp>=0.5 in /opt/conda/lib/python3.7/site-packages (from importlib-metadata>=4.4->markdown>=2.6.8->tensorboard<2.7,>=2.6.0->tensorflow->canaro) (3.8.0)\n",
      "Requirement already satisfied: pyasn1<0.5.0,>=0.4.6 in /opt/conda/lib/python3.7/site-packages (from pyasn1-modules>=0.2.1->google-auth<2,>=1.6.3->tensorboard<2.7,>=2.6.0->tensorflow->canaro) (0.4.8)\n",
      "Requirement already satisfied: oauthlib>=3.0.0 in /opt/conda/lib/python3.7/site-packages (from requests-oauthlib>=0.7.0->google-auth-oauthlib<0.5,>=0.4.1->tensorboard<2.7,>=2.6.0->tensorflow->canaro) (3.2.0)\n",
      "\u001b[33mWARNING: Running pip as the 'root' user can result in broken permissions and conflicting behaviour with the system package manager. It is recommended to use a virtual environment instead: https://pip.pypa.io/warnings/venv\u001b[0m\u001b[33m\n",
      "\u001b[0m"
     ]
    }
   ],
   "source": [
    "!pip install caer canaro"
   ]
  },
  {
   "cell_type": "code",
   "execution_count": 57,
   "metadata": {
    "execution": {
     "iopub.execute_input": "2023-01-17T17:50:36.004405Z",
     "iopub.status.busy": "2023-01-17T17:50:36.003982Z",
     "iopub.status.idle": "2023-01-17T17:50:36.011184Z",
     "shell.execute_reply": "2023-01-17T17:50:36.008469Z",
     "shell.execute_reply.started": "2023-01-17T17:50:36.004345Z"
    }
   },
   "outputs": [],
   "source": [
    "import os\n",
    "import numpy as np\n",
    "import cv2 as cv\n",
    "import gc\n",
    "import caer\n",
    "import canaro"
   ]
  },
  {
   "cell_type": "code",
   "execution_count": 58,
   "metadata": {
    "execution": {
     "iopub.execute_input": "2023-01-17T17:50:36.013396Z",
     "iopub.status.busy": "2023-01-17T17:50:36.013055Z",
     "iopub.status.idle": "2023-01-17T17:50:36.022355Z",
     "shell.execute_reply": "2023-01-17T17:50:36.021318Z",
     "shell.execute_reply.started": "2023-01-17T17:50:36.013362Z"
    }
   },
   "outputs": [],
   "source": [
    "IMG_SIZE = (80,80)\n",
    "channels = 1\n",
    "char_path = r'/kaggle/input/the-simpsons-characters-dataset/simpsons_dataset'"
   ]
  },
  {
   "cell_type": "code",
   "execution_count": 59,
   "metadata": {
    "execution": {
     "iopub.execute_input": "2023-01-17T17:50:36.026659Z",
     "iopub.status.busy": "2023-01-17T17:50:36.026387Z",
     "iopub.status.idle": "2023-01-17T17:50:36.100156Z",
     "shell.execute_reply": "2023-01-17T17:50:36.099220Z",
     "shell.execute_reply.started": "2023-01-17T17:50:36.026635Z"
    }
   },
   "outputs": [
    {
     "data": {
      "text/plain": [
       "[('homer_simpson', 2246),\n",
       " ('ned_flanders', 1454),\n",
       " ('moe_szyslak', 1452),\n",
       " ('lisa_simpson', 1354),\n",
       " ('bart_simpson', 1342),\n",
       " ('marge_simpson', 1291),\n",
       " ('krusty_the_clown', 1206),\n",
       " ('principal_skinner', 1194),\n",
       " ('charles_montgomery_burns', 1193),\n",
       " ('milhouse_van_houten', 1079),\n",
       " ('chief_wiggum', 986),\n",
       " ('abraham_grampa_simpson', 913),\n",
       " ('sideshow_bob', 877),\n",
       " ('apu_nahasapeemapetilon', 623),\n",
       " ('kent_brockman', 498),\n",
       " ('comic_book_guy', 469),\n",
       " ('edna_krabappel', 457),\n",
       " ('nelson_muntz', 358),\n",
       " ('lenny_leonard', 310),\n",
       " ('mayor_quimby', 246),\n",
       " ('waylon_smithers', 181),\n",
       " ('maggie_simpson', 128),\n",
       " ('groundskeeper_willie', 121),\n",
       " ('barney_gumble', 106),\n",
       " ('selma_bouvier', 103),\n",
       " ('carl_carlson', 98),\n",
       " ('ralph_wiggum', 89),\n",
       " ('patty_bouvier', 72),\n",
       " ('martin_prince', 71),\n",
       " ('professor_john_frink', 65),\n",
       " ('snake_jailbird', 55),\n",
       " ('cletus_spuckler', 47),\n",
       " ('rainier_wolfcastle', 45),\n",
       " ('simpsons_dataset', 42),\n",
       " ('agnes_skinner', 42),\n",
       " ('sideshow_mel', 40),\n",
       " ('otto_mann', 32),\n",
       " ('fat_tony', 27),\n",
       " ('gil', 27),\n",
       " ('miss_hoover', 17),\n",
       " ('disco_stu', 8),\n",
       " ('troy_mcclure', 8),\n",
       " ('lionel_hutz', 3)]"
      ]
     },
     "execution_count": 59,
     "metadata": {},
     "output_type": "execute_result"
    }
   ],
   "source": [
    "char_dict = {}\n",
    "for char in os.listdir(char_path):\n",
    "    char_dict[char] = len(os.listdir(os.path.join(char_path, char)))\n",
    "    \n",
    "#Sorting into descending order\n",
    "char_dict = caer.sort_dict(char_dict, descending = True)\n",
    "char_dict"
   ]
  },
  {
   "cell_type": "code",
   "execution_count": 60,
   "metadata": {
    "execution": {
     "iopub.execute_input": "2023-01-17T17:50:36.101822Z",
     "iopub.status.busy": "2023-01-17T17:50:36.101459Z",
     "iopub.status.idle": "2023-01-17T17:50:36.113005Z",
     "shell.execute_reply": "2023-01-17T17:50:36.111068Z",
     "shell.execute_reply.started": "2023-01-17T17:50:36.101784Z"
    }
   },
   "outputs": [
    {
     "data": {
      "text/plain": [
       "['homer_simpson',\n",
       " 'ned_flanders',\n",
       " 'moe_szyslak',\n",
       " 'lisa_simpson',\n",
       " 'bart_simpson',\n",
       " 'marge_simpson',\n",
       " 'krusty_the_clown',\n",
       " 'principal_skinner',\n",
       " 'charles_montgomery_burns',\n",
       " 'milhouse_van_houten']"
      ]
     },
     "execution_count": 60,
     "metadata": {},
     "output_type": "execute_result"
    }
   ],
   "source": [
    "characters = []\n",
    "count = 0\n",
    "for i in char_dict:\n",
    "    characters.append(i[0])\n",
    "    count+=1\n",
    "    if count>=10:\n",
    "        break\n",
    "characters"
   ]
  },
  {
   "cell_type": "code",
   "execution_count": 61,
   "metadata": {
    "execution": {
     "iopub.execute_input": "2023-01-17T17:50:36.115558Z",
     "iopub.status.busy": "2023-01-17T17:50:36.114788Z",
     "iopub.status.idle": "2023-01-17T17:51:31.203229Z",
     "shell.execute_reply": "2023-01-17T17:51:31.202104Z",
     "shell.execute_reply.started": "2023-01-17T17:50:36.115519Z"
    }
   },
   "outputs": [
    {
     "name": "stdout",
     "output_type": "stream",
     "text": [
      "[INFO] Could not find a file to load from. Generating the training data\n",
      "----------------------------------------------\n",
      "[INFO] At 1000 files\n",
      "[INFO] At 2000 files\n",
      "[INFO] 2246 files found in 0.555283784866333s\n",
      "[INFO] At 1000 files\n",
      "[INFO] 1454 files found in 0.16033411026000977s\n",
      "[INFO] At 1000 files\n",
      "[INFO] 1452 files found in 0.2195122241973877s\n",
      "[INFO] At 1000 files\n",
      "[INFO] 1354 files found in 0.10036420822143555s\n",
      "[INFO] At 1000 files\n",
      "[INFO] 1342 files found in 0.09883332252502441s\n",
      "[INFO] At 1000 files\n",
      "[INFO] 1291 files found in 0.07775282859802246s\n",
      "[INFO] At 1000 files\n",
      "[INFO] 1206 files found in 0.05166745185852051s\n",
      "[INFO] At 1000 files\n",
      "[INFO] 1194 files found in 0.02880096435546875s\n",
      "[INFO] At 1000 files\n",
      "[INFO] 1193 files found in 0.029582738876342773s\n",
      "[INFO] At 1000 files\n",
      "[INFO] 1079 files found in 0.003573179244995117s\n",
      "----------------------------------------------\n",
      "[INFO] 13811 files preprocessed! Took 0m 55s\n"
     ]
    }
   ],
   "source": [
    "train = caer.preprocess_from_dir(char_path, characters, channels = channels, IMG_SIZE = IMG_SIZE, isShuffle = True)"
   ]
  },
  {
   "cell_type": "code",
   "execution_count": 62,
   "metadata": {
    "execution": {
     "iopub.execute_input": "2023-01-17T17:51:31.205177Z",
     "iopub.status.busy": "2023-01-17T17:51:31.204780Z",
     "iopub.status.idle": "2023-01-17T17:51:31.214616Z",
     "shell.execute_reply": "2023-01-17T17:51:31.210848Z",
     "shell.execute_reply.started": "2023-01-17T17:51:31.205139Z"
    }
   },
   "outputs": [
    {
     "data": {
      "text/plain": [
       "13811"
      ]
     },
     "execution_count": 62,
     "metadata": {},
     "output_type": "execute_result"
    }
   ],
   "source": [
    "len(train)"
   ]
  },
  {
   "cell_type": "code",
   "execution_count": 63,
   "metadata": {
    "execution": {
     "iopub.execute_input": "2023-01-17T17:51:31.216886Z",
     "iopub.status.busy": "2023-01-17T17:51:31.216268Z",
     "iopub.status.idle": "2023-01-17T17:51:31.831919Z",
     "shell.execute_reply": "2023-01-17T17:51:31.830914Z",
     "shell.execute_reply.started": "2023-01-17T17:51:31.216845Z"
    }
   },
   "outputs": [
    {
     "data": {
      "image/png": "[encoded data removed]",
      "text/plain": [
       "<Figure size 2160x2160 with 1 Axes>"
      ]
     },
     "metadata": {
      "needs_background": "light"
     },
     "output_type": "display_data"
    }
   ],
   "source": [
    "import matplotlib.pyplot as plt\n",
    "plt.figure(figsize = (30,30))\n",
    "plt.imshow(train[0][0], cmap = 'gray')\n",
    "plt.show()"
   ]
  },
  {
   "cell_type": "code",
   "execution_count": 64,
   "metadata": {
    "execution": {
     "iopub.execute_input": "2023-01-17T17:51:31.834505Z",
     "iopub.status.busy": "2023-01-17T17:51:31.833724Z",
     "iopub.status.idle": "2023-01-17T17:51:31.888762Z",
     "shell.execute_reply": "2023-01-17T17:51:31.887707Z",
     "shell.execute_reply.started": "2023-01-17T17:51:31.834462Z"
    }
   },
   "outputs": [],
   "source": [
    "featureSet, labels = caer.sep_train(train, IMG_SIZE = IMG_SIZE)"
   ]
  },
  {
   "cell_type": "code",
   "execution_count": 65,
   "metadata": {
    "execution": {
     "iopub.execute_input": "2023-01-17T17:51:31.893713Z",
     "iopub.status.busy": "2023-01-17T17:51:31.893083Z",
     "iopub.status.idle": "2023-01-17T17:51:32.017889Z",
     "shell.execute_reply": "2023-01-17T17:51:32.016780Z",
     "shell.execute_reply.started": "2023-01-17T17:51:31.893682Z"
    }
   },
   "outputs": [],
   "source": [
    "from tensorflow.keras.utils import to_categorical\n",
    "#Normalize the featureSet --->(0,1)\n",
    "featureSet = caer.normalize(featureSet)\n",
    "labels = to_categorical(labels, len(characters))"
   ]
  },
  {
   "cell_type": "code",
   "execution_count": 66,
   "metadata": {
    "execution": {
     "iopub.execute_input": "2023-01-17T17:51:32.019899Z",
     "iopub.status.busy": "2023-01-17T17:51:32.019527Z",
     "iopub.status.idle": "2023-01-17T17:51:32.499969Z",
     "shell.execute_reply": "2023-01-17T17:51:32.498984Z",
     "shell.execute_reply.started": "2023-01-17T17:51:32.019862Z"
    }
   },
   "outputs": [],
   "source": [
    "x_train, x_val, y_train, y_val = caer.train_val_split(featureSet, labels, val_ratio = .2)"
   ]
  },
  {
   "cell_type": "code",
   "execution_count": 67,
   "metadata": {
    "execution": {
     "iopub.execute_input": "2023-01-17T17:51:32.501890Z",
     "iopub.status.busy": "2023-01-17T17:51:32.501537Z",
     "iopub.status.idle": "2023-01-17T17:51:32.812903Z",
     "shell.execute_reply": "2023-01-17T17:51:32.811758Z",
     "shell.execute_reply.started": "2023-01-17T17:51:32.501861Z"
    }
   },
   "outputs": [
    {
     "data": {
      "text/plain": [
       "1104"
      ]
     },
     "execution_count": 67,
     "metadata": {},
     "output_type": "execute_result"
    }
   ],
   "source": [
    "del train\n",
    "del featureSet\n",
    "del labels\n",
    "gc.collect()"
   ]
  },
  {
   "cell_type": "code",
   "execution_count": 68,
   "metadata": {
    "execution": {
     "iopub.execute_input": "2023-01-17T17:51:32.815125Z",
     "iopub.status.busy": "2023-01-17T17:51:32.814652Z",
     "iopub.status.idle": "2023-01-17T17:51:32.822671Z",
     "shell.execute_reply": "2023-01-17T17:51:32.821581Z",
     "shell.execute_reply.started": "2023-01-17T17:51:32.815086Z"
    }
   },
   "outputs": [],
   "source": [
    "BATCH_SIZE = 32\n",
    "EPOCHS = 10"
   ]
  },
  {
   "cell_type": "code",
   "execution_count": 69,
   "metadata": {
    "execution": {
     "iopub.execute_input": "2023-01-17T17:51:32.824774Z",
     "iopub.status.busy": "2023-01-17T17:51:32.824242Z",
     "iopub.status.idle": "2023-01-17T17:51:32.833992Z",
     "shell.execute_reply": "2023-01-17T17:51:32.832966Z",
     "shell.execute_reply.started": "2023-01-17T17:51:32.824621Z"
    }
   },
   "outputs": [],
   "source": [
    "datagen = canaro.generators.imageDataGenerator()\n",
    "train_gen = datagen.flow(x_train, y_train, batch_size = BATCH_SIZE)"
   ]
  },
  {
   "cell_type": "code",
   "execution_count": 70,
   "metadata": {
    "execution": {
     "iopub.execute_input": "2023-01-17T17:51:32.836119Z",
     "iopub.status.busy": "2023-01-17T17:51:32.835735Z",
     "iopub.status.idle": "2023-01-17T17:51:33.009714Z",
     "shell.execute_reply": "2023-01-17T17:51:33.008718Z",
     "shell.execute_reply.started": "2023-01-17T17:51:32.836084Z"
    }
   },
   "outputs": [],
   "source": [
    "#Creating the model\n",
    "model = canaro.models.createSimpsonsModel(IMG_SIZE = IMG_SIZE, channels = channels, output_dim = len(characters),\n",
    "                                          loss = 'binary_crossentropy', decay = 1e-6, learning_rate = 0.001, momentum = 0.9, nesterov = True)"
   ]
  },
  {
   "cell_type": "code",
   "execution_count": 71,
   "metadata": {
    "execution": {
     "iopub.execute_input": "2023-01-17T17:51:33.011696Z",
     "iopub.status.busy": "2023-01-17T17:51:33.011116Z",
     "iopub.status.idle": "2023-01-17T17:51:33.021282Z",
     "shell.execute_reply": "2023-01-17T17:51:33.019965Z",
     "shell.execute_reply.started": "2023-01-17T17:51:33.011656Z"
    }
   },
   "outputs": [
    {
     "name": "stdout",
     "output_type": "stream",
     "text": [
      "Model: \"sequential_5\"\n",
      "_________________________________________________________________\n",
      "Layer (type)                 Output Shape              Param #   \n",
      "=================================================================\n",
      "conv2d_30 (Conv2D)           (None, 80, 80, 32)        320       \n",
      "_________________________________________________________________\n",
      "conv2d_31 (Conv2D)           (None, 78, 78, 32)        9248      \n",
      "_________________________________________________________________\n",
      "max_pooling2d_15 (MaxPooling (None, 39, 39, 32)        0         \n",
      "_________________________________________________________________\n",
      "dropout_20 (Dropout)         (None, 39, 39, 32)        0         \n",
      "_________________________________________________________________\n",
      "conv2d_32 (Conv2D)           (None, 39, 39, 64)        18496     \n",
      "_________________________________________________________________\n",
      "conv2d_33 (Conv2D)           (None, 37, 37, 64)        36928     \n",
      "_________________________________________________________________\n",
      "max_pooling2d_16 (MaxPooling (None, 18, 18, 64)        0         \n",
      "_________________________________________________________________\n",
      "dropout_21 (Dropout)         (None, 18, 18, 64)        0         \n",
      "_________________________________________________________________\n",
      "conv2d_34 (Conv2D)           (None, 18, 18, 256)       147712    \n",
      "_________________________________________________________________\n",
      "conv2d_35 (Conv2D)           (None, 16, 16, 256)       590080    \n",
      "_________________________________________________________________\n",
      "max_pooling2d_17 (MaxPooling (None, 8, 8, 256)         0         \n",
      "_________________________________________________________________\n",
      "dropout_22 (Dropout)         (None, 8, 8, 256)         0         \n",
      "_________________________________________________________________\n",
      "flatten_5 (Flatten)          (None, 16384)             0         \n",
      "_________________________________________________________________\n",
      "dropout_23 (Dropout)         (None, 16384)             0         \n",
      "_________________________________________________________________\n",
      "dense_7 (Dense)              (None, 1024)              16778240  \n",
      "_________________________________________________________________\n",
      "dense_8 (Dense)              (None, 10)                10250     \n",
      "=================================================================\n",
      "Total params: 17,591,274\n",
      "Trainable params: 17,591,274\n",
      "Non-trainable params: 0\n",
      "_________________________________________________________________\n"
     ]
    }
   ],
   "source": [
    "model.summary()"
   ]
  },
  {
   "cell_type": "code",
   "execution_count": 72,
   "metadata": {
    "execution": {
     "iopub.execute_input": "2023-01-17T17:51:33.023415Z",
     "iopub.status.busy": "2023-01-17T17:51:33.022762Z",
     "iopub.status.idle": "2023-01-17T17:51:33.030652Z",
     "shell.execute_reply": "2023-01-17T17:51:33.029607Z",
     "shell.execute_reply.started": "2023-01-17T17:51:33.023375Z"
    }
   },
   "outputs": [],
   "source": [
    "from tensorflow.keras.callbacks import LearningRateScheduler\n",
    "callbacks_list = [LearningRateScheduler(canaro.lr_schedule)]"
   ]
  },
  {
   "cell_type": "code",
   "execution_count": 73,
   "metadata": {
    "execution": {
     "iopub.execute_input": "2023-01-17T17:51:33.032677Z",
     "iopub.status.busy": "2023-01-17T17:51:33.032235Z",
     "iopub.status.idle": "2023-01-17T17:54:39.030343Z",
     "shell.execute_reply": "2023-01-17T17:54:39.029176Z",
     "shell.execute_reply.started": "2023-01-17T17:51:33.032638Z"
    }
   },
   "outputs": [
    {
     "name": "stdout",
     "output_type": "stream",
     "text": [
      "Epoch 1/10\n",
      "345/345 [==============================] - 12s 34ms/step - loss: 0.3417 - accuracy: 0.1544 - val_loss: 0.3330 - val_accuracy: 0.1520\n",
      "Epoch 2/10\n",
      "345/345 [==============================] - 11s 31ms/step - loss: 0.3234 - accuracy: 0.1632\n",
      "Epoch 3/10\n",
      "345/345 [==============================] - 11s 31ms/step - loss: 0.3228 - accuracy: 0.1654\n",
      "Epoch 4/10\n",
      "345/345 [==============================] - 11s 31ms/step - loss: 0.3184 - accuracy: 0.1792\n",
      "Epoch 5/10\n",
      "345/345 [==============================] - 12s 34ms/step - loss: 0.3075 - accuracy: 0.2219\n",
      "Epoch 6/10\n",
      "345/345 [==============================] - 11s 31ms/step - loss: 0.3028 - accuracy: 0.2471\n",
      "Epoch 7/10\n",
      "345/345 [==============================] - 12s 34ms/step - loss: 0.2996 - accuracy: 0.2680\n",
      "Epoch 8/10\n",
      "345/345 [==============================] - 11s 31ms/step - loss: 0.2972 - accuracy: 0.2746\n",
      "Epoch 9/10\n",
      "345/345 [==============================] - 11s 31ms/step - loss: 0.2942 - accuracy: 0.2849\n",
      "Epoch 10/10\n",
      "345/345 [==============================] - 11s 33ms/step - loss: 0.2928 - accuracy: 0.2882\n"
     ]
    }
   ],
   "source": [
    "training = model.fit(train_gen,\n",
    "                     steps_per_epoch = len(x_train)//BATCH_SIZE,\n",
    "                     epochs = EPOCHS,\n",
    "                     validation_data = (x_val, y_val),\n",
    "                     validation_steps = len(y_val)//BATCH_SIZE,\n",
    "                     callbacks = callbacks_list)"
   ]
  },
  {
   "cell_type": "code",
   "execution_count": 120,
   "metadata": {
    "execution": {
     "iopub.execute_input": "2023-01-17T18:05:07.938068Z",
     "iopub.status.busy": "2023-01-17T18:05:07.937636Z",
     "iopub.status.idle": "2023-01-17T18:05:08.234263Z",
     "shell.execute_reply": "2023-01-17T18:05:08.232432Z",
     "shell.execute_reply.started": "2023-01-17T18:05:07.938032Z"
    }
   },
   "outputs": [
    {
     "data": {
      "image/png": "[encoded data removed]",
      "text/plain": [
       "<Figure size 432x288 with 1 Axes>"
      ]
     },
     "metadata": {
      "needs_background": "light"
     },
     "output_type": "display_data"
    }
   ],
   "source": [
    "test_path = r'/kaggle/input/the-simpsons-characters-dataset/kaggle_simpson_testset/kaggle_simpson_testset/krusty_the_clown_10.jpg'\n",
    "img = cv.imread(test_path)\n",
    "plt.imshow(img, cmap = 'gray')\n",
    "plt.show() "
   ]
  },
  {
   "cell_type": "code",
   "execution_count": 121,
   "metadata": {
    "execution": {
     "iopub.execute_input": "2023-01-17T18:05:10.876608Z",
     "iopub.status.busy": "2023-01-17T18:05:10.875671Z",
     "iopub.status.idle": "2023-01-17T18:05:10.882910Z",
     "shell.execute_reply": "2023-01-17T18:05:10.881691Z",
     "shell.execute_reply.started": "2023-01-17T18:05:10.876559Z"
    }
   },
   "outputs": [],
   "source": [
    "def prepare(img):\n",
    "    img = cv.cvtColor(img, cv.COLOR_BGR2GRAY)\n",
    "    img = cv.resize(img, IMG_SIZE)\n",
    "    img = caer.reshape(img, IMG_SIZE, 1)\n",
    "    return img"
   ]
  },
  {
   "cell_type": "code",
   "execution_count": 122,
   "metadata": {
    "execution": {
     "iopub.execute_input": "2023-01-17T18:05:11.886606Z",
     "iopub.status.busy": "2023-01-17T18:05:11.886229Z",
     "iopub.status.idle": "2023-01-17T18:05:11.938235Z",
     "shell.execute_reply": "2023-01-17T18:05:11.937124Z",
     "shell.execute_reply.started": "2023-01-17T18:05:11.886573Z"
    }
   },
   "outputs": [],
   "source": [
    "predictions = model.predict(prepare(img))"
   ]
  },
  {
   "cell_type": "code",
   "execution_count": 123,
   "metadata": {
    "execution": {
     "iopub.execute_input": "2023-01-17T18:05:12.842145Z",
     "iopub.status.busy": "2023-01-17T18:05:12.841779Z",
     "iopub.status.idle": "2023-01-17T18:05:12.849181Z",
     "shell.execute_reply": "2023-01-17T18:05:12.848068Z",
     "shell.execute_reply.started": "2023-01-17T18:05:12.842114Z"
    }
   },
   "outputs": [
    {
     "data": {
      "text/plain": [
       "array([[0., 0., 0., 1., 0., 0., 0., 0., 0., 0.]], dtype=float32)"
      ]
     },
     "execution_count": 123,
     "metadata": {},
     "output_type": "execute_result"
    }
   ],
   "source": [
    "predictions"
   ]
  },
  {
   "cell_type": "code",
   "execution_count": 124,
   "metadata": {
    "execution": {
     "iopub.execute_input": "2023-01-17T18:05:13.775006Z",
     "iopub.status.busy": "2023-01-17T18:05:13.774266Z",
     "iopub.status.idle": "2023-01-17T18:05:13.780792Z",
     "shell.execute_reply": "2023-01-17T18:05:13.779342Z",
     "shell.execute_reply.started": "2023-01-17T18:05:13.774911Z"
    }
   },
   "outputs": [
    {
     "name": "stdout",
     "output_type": "stream",
     "text": [
      "lisa_simpson\n"
     ]
    }
   ],
   "source": [
    "print(characters[np.argmax(predictions[0])])"
   ]
  }
 ],
 "metadata": {
  "kernelspec": {
   "display_name": "Python 3",
   "language": "python",
   "name": "python3"
  },
  "language_info": {
   "codemirror_mode": {
    "name": "ipython",
    "version": 3
   },
   "file_extension": ".py",
   "mimetype": "text/x-python",
   "name": "python",
   "nbconvert_exporter": "python",
   "pygments_lexer": "ipython3",
   "version": "3.8.8"
  }
 },
 "nbformat": 4,
 "nbformat_minor": 4
}
